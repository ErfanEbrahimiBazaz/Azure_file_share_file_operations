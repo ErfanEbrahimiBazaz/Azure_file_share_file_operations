{
 "cells": [
  {
   "cell_type": "markdown",
   "metadata": {},
   "source": [
    "### Check [this link](https://docs.microsoft.com/en-us/azure/storage/files/storage-python-how-to-use-file-storage?tabs=python) to connect python to Azure file share."
   ]
  },
  {
   "cell_type": "code",
   "execution_count": 1,
   "metadata": {},
   "outputs": [],
   "source": [
    "from azure.core.exceptions import (\n",
    "    ResourceExistsError,\n",
    "    ResourceNotFoundError\n",
    ")\n",
    "\n",
    "from azure.storage.fileshare import (\n",
    "    ShareServiceClient,\n",
    "    ShareClient,\n",
    "    ShareDirectoryClient,\n",
    "    ShareFileClient\n",
    ")"
   ]
  },
  {
   "cell_type": "markdown",
   "metadata": {},
   "source": [
    "#### You can find your storage account's connection strings in the Azure portal. Navigate to SETTINGS > Access keys in your storage account's menu blade to see connection strings for both primary and secondary access keys."
   ]
  },
  {
   "cell_type": "code",
   "execution_count": 2,
   "metadata": {},
   "outputs": [],
   "source": [
    "# Create a ShareServiceClient from a connection string\n",
    "connection_string = '<here goes your connection string>'\n",
    "service_client = ShareServiceClient.from_connection_string(connection_string)"
   ]
  },
  {
   "cell_type": "markdown",
   "metadata": {},
   "source": [
    "## Create an Azure file share"
   ]
  },
  {
   "cell_type": "code",
   "execution_count": 8,
   "metadata": {},
   "outputs": [],
   "source": [
    "def create_file_share(connection_string, share_name):\n",
    "    try:\n",
    "        # Create a ShareClient from a connection string\n",
    "        share_client = ShareClient.from_connection_string(\n",
    "            connection_string, share_name)\n",
    "\n",
    "        print(\"Creating share:\", share_name)\n",
    "        share_client.create_share()\n",
    "\n",
    "    except ResourceExistsError as ex:\n",
    "        print(\"ResourceExistsError:\", ex.message)"
   ]
  },
  {
   "cell_type": "code",
   "execution_count": 9,
   "metadata": {},
   "outputs": [
    {
     "name": "stdout",
     "output_type": "stream",
     "text": [
      "Creating share: test\n"
     ]
    }
   ],
   "source": [
    "create_file_share(connection_string, 'test')"
   ]
  },
  {
   "cell_type": "code",
   "execution_count": 7,
   "metadata": {},
   "outputs": [
    {
     "data": {
      "text/plain": [
       "{'etag': '\"0x8D8E8CE2EEA2B01\"',\n",
       " 'last_modified': datetime.datetime(2021, 3, 16, 22, 52, 32, tzinfo=datetime.timezone.utc),\n",
       " 'request_id': 'f9a21a2a-501a-006d-79b7-1a4d33000000',\n",
       " 'version': '2020-04-08',\n",
       " 'date': datetime.datetime(2021, 3, 16, 22, 52, 31, tzinfo=datetime.timezone.utc)}"
      ]
     },
     "execution_count": 7,
     "metadata": {},
     "output_type": "execute_result"
    }
   ],
   "source": [
    "share = ShareClient.from_connection_string(conn_str=connection_string, share_name=\"myshare\")\n",
    "share.create_share()"
   ]
  },
  {
   "cell_type": "markdown",
   "metadata": {},
   "source": [
    "## Create a directory"
   ]
  },
  {
   "cell_type": "code",
   "execution_count": 15,
   "metadata": {},
   "outputs": [],
   "source": [
    "def create_directory(connection_string, share_name, dir_name):\n",
    "    try:\n",
    "        # Create a ShareDirectoryClient from a connection string\n",
    "        dir_client = ShareDirectoryClient.from_connection_string(\n",
    "            connection_string, share_name, dir_name)\n",
    "\n",
    "        print(\"Creating directory:\", share_name + \"/\" + dir_name)\n",
    "        dir_client.create_directory()\n",
    "\n",
    "    except ResourceExistsError as ex:\n",
    "        print(\"ResourceExistsError:\", ex.message)"
   ]
  },
  {
   "cell_type": "code",
   "execution_count": 16,
   "metadata": {},
   "outputs": [
    {
     "name": "stdout",
     "output_type": "stream",
     "text": [
      "Creating directory: test/dict\n"
     ]
    }
   ],
   "source": [
    "create_directory(connection_string, 'test', 'dict')"
   ]
  },
  {
   "cell_type": "markdown",
   "metadata": {},
   "source": [
    "## Upload file\n",
    "\n",
    "The following method uploads **the contents** of the specified file into the specified directory in the specified Azure file share."
   ]
  },
  {
   "cell_type": "code",
   "execution_count": 19,
   "metadata": {},
   "outputs": [],
   "source": [
    "def upload_local_file(connection_string, local_file_path, share_name, dest_file_path):\n",
    "    try:\n",
    "        source_file = open(local_file_path, \"rb\")\n",
    "        data = source_file.read()\n",
    "\n",
    "        # Create a ShareFileClient from a connection string\n",
    "        file_client = ShareFileClient.from_connection_string(\n",
    "            connection_string, share_name, dest_file_path)\n",
    "\n",
    "        print(\"Uploading to:\", share_name + \"/\" + dest_file_path)\n",
    "        file_client.upload_file(data)\n",
    "\n",
    "    except ResourceExistsError as ex:\n",
    "        print(\"ResourceExistsError:\", ex.message)\n",
    "\n",
    "    except ResourceNotFoundError as ex:\n",
    "        print(\"ResourceNotFoundError:\", ex.message)"
   ]
  },
  {
   "cell_type": "code",
   "execution_count": 23,
   "metadata": {},
   "outputs": [
    {
     "name": "stdout",
     "output_type": "stream",
     "text": [
      "Uploading to: test/test_cloud.txt\n"
     ]
    }
   ],
   "source": [
    "local_file_path = r'<your local path>\\logging\\test.txt'\n",
    "share_name = 'test'\n",
    "dest_file_path = 'test_cloud.txt'\n",
    "upload_local_file(connection_string, local_file_path, share_name, dest_file_path)"
   ]
  },
  {
   "cell_type": "markdown",
   "metadata": {},
   "source": [
    "## Enumerate files and directories in an Azure file share"
   ]
  },
  {
   "cell_type": "code",
   "execution_count": 24,
   "metadata": {},
   "outputs": [],
   "source": [
    "def list_files_and_dirs(connection_string, share_name, dir_name):\n",
    "    try:\n",
    "        # Create a ShareClient from a connection string\n",
    "        share_client = ShareClient.from_connection_string(\n",
    "            connection_string, share_name)\n",
    "\n",
    "        for item in list(share_client.list_directories_and_files(dir_name)):\n",
    "            if item[\"is_directory\"]:\n",
    "                print(\"Directory:\", item[\"name\"])\n",
    "            else:\n",
    "                print(\"File:\", dir_name + \"/\" + item[\"name\"])\n",
    "\n",
    "    except ResourceNotFoundError as ex:\n",
    "        print(\"ResourceNotFoundError:\", ex.message)"
   ]
  },
  {
   "cell_type": "code",
   "execution_count": 26,
   "metadata": {},
   "outputs": [
    {
     "name": "stdout",
     "output_type": "stream",
     "text": [
      "File: dag_processor_manager/dag_processor_manager.log\n",
      "File: dag_processor_manager/dag_processor_manager.log.1\n",
      "File: dag_processor_manager/dag_processor_manager.log.2\n",
      "File: dag_processor_manager/dag_processor_manager.log.3\n",
      "File: dag_processor_manager/dag_processor_manager.log.4\n",
      "File: dag_processor_manager/dag_processor_manager.log.5\n"
     ]
    }
   ],
   "source": [
    "share_name = 'logs'\n",
    "dir_name = 'dag_processor_manager'\n",
    "list_files_and_dirs(connection_string, share_name, dir_name)"
   ]
  },
  {
   "cell_type": "markdown",
   "metadata": {},
   "source": [
    "## Download a file"
   ]
  },
  {
   "cell_type": "code",
   "execution_count": 28,
   "metadata": {},
   "outputs": [],
   "source": [
    "def download_azure_file(connection_string, share_name, dir_name, file_name):\n",
    "    try:\n",
    "        # Build the remote path\n",
    "        source_file_path = dir_name + \"/\" + file_name\n",
    "\n",
    "        # Add a prefix to the filename to \n",
    "        # distinguish it from the uploaded file\n",
    "        dest_file_name = \"DOWNLOADED-\" + file_name\n",
    "\n",
    "        # Create a ShareFileClient from a connection string\n",
    "        file_client = ShareFileClient.from_connection_string(\n",
    "            connection_string, share_name, source_file_path)\n",
    "\n",
    "        print(\"Downloading to:\", dest_file_name)\n",
    "\n",
    "        # Open a file for writing bytes on the local system\n",
    "        with open(dest_file_name, \"wb\") as data:\n",
    "            # Download the file from Azure into a stream\n",
    "            stream = file_client.download_file()\n",
    "            # Write the stream to the local file\n",
    "            data.write(stream.readall())\n",
    "\n",
    "    except ResourceNotFoundError as ex:\n",
    "        print(\"ResourceNotFoundError:\", ex.message)"
   ]
  },
  {
   "cell_type": "code",
   "execution_count": 29,
   "metadata": {},
   "outputs": [
    {
     "name": "stdout",
     "output_type": "stream",
     "text": [
      "Downloading to: DOWNLOADED-dag_processor_manager.log\n"
     ]
    }
   ],
   "source": [
    "share_name = 'logs'\n",
    "dir_name = 'dag_processor_manager'\n",
    "file_name = 'dag_processor_manager.log'\n",
    "download_azure_file(connection_string, share_name, dir_name, file_name)"
   ]
  },
  {
   "cell_type": "markdown",
   "metadata": {},
   "source": [
    "### Delete a file"
   ]
  },
  {
   "cell_type": "code",
   "execution_count": 31,
   "metadata": {},
   "outputs": [],
   "source": [
    "def delete_azure_file(connection_string, share_name, file_path):\n",
    "    try:\n",
    "        # Create a ShareFileClient from a connection string\n",
    "        file_client = ShareFileClient.from_connection_string(\n",
    "            connection_string, share_name, file_path)\n",
    "\n",
    "        print(\"Deleting file:\", share_name + \"/\" + file_path)\n",
    "\n",
    "        # Delete the file\n",
    "        file_client.delete_file()\n",
    "\n",
    "    except ResourceNotFoundError as ex:\n",
    "        print(\"ResourceNotFoundError:\", ex.message)"
   ]
  }
 ],
 "metadata": {
  "kernelspec": {
   "display_name": "Python 3",
   "language": "python",
   "name": "python3"
  },
  "language_info": {
   "codemirror_mode": {
    "name": "ipython",
    "version": 3
   },
   "file_extension": ".py",
   "mimetype": "text/x-python",
   "name": "python",
   "nbconvert_exporter": "python",
   "pygments_lexer": "ipython3",
   "version": "3.8.3"
  }
 },
 "nbformat": 4,
 "nbformat_minor": 4
}
